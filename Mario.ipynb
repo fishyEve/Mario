{
 "cells": [
  {
   "cell_type": "code",
   "execution_count": 1,
   "id": "90229405-b743-4a70-801e-f2eb527373c7",
   "metadata": {},
   "outputs": [],
   "source": [
    "# Eve Collier\n",
   ]
  },
  {
   "cell_type": "code",
   "execution_count": 6,
   "id": "96d48672-89a9-48b9-977c-3c2b91cc4ae1",
   "metadata": {},
   "outputs": [
    {
     "name": "stdout",
     "output_type": "stream",
     "text": [
      "Requirement already satisfied: gym_super_mario_bros==7.3.0 in /Library/Frameworks/Python.framework/Versions/3.9/lib/python3.9/site-packages (7.3.0)\n",
      "Requirement already satisfied: nes_py in /Library/Frameworks/Python.framework/Versions/3.9/lib/python3.9/site-packages (8.2.1)\n",
      "Requirement already satisfied: gym>=0.17.2 in /Library/Frameworks/Python.framework/Versions/3.9/lib/python3.9/site-packages (from nes_py) (0.26.2)\n",
      "Requirement already satisfied: numpy>=1.18.5 in /Library/Frameworks/Python.framework/Versions/3.9/lib/python3.9/site-packages (from nes_py) (1.23.5)\n",
      "Requirement already satisfied: pyglet<=1.5.21,>=1.4.0 in /Library/Frameworks/Python.framework/Versions/3.9/lib/python3.9/site-packages (from nes_py) (1.5.21)\n",
      "Requirement already satisfied: tqdm>=4.48.2 in /Library/Frameworks/Python.framework/Versions/3.9/lib/python3.9/site-packages (from nes_py) (4.67.1)\n",
      "Requirement already satisfied: cloudpickle>=1.2.0 in /Library/Frameworks/Python.framework/Versions/3.9/lib/python3.9/site-packages (from gym>=0.17.2->nes_py) (3.1.1)\n",
      "Requirement already satisfied: importlib_metadata>=4.8.0 in /Library/Frameworks/Python.framework/Versions/3.9/lib/python3.9/site-packages (from gym>=0.17.2->nes_py) (8.5.0)\n",
      "Requirement already satisfied: gym_notices>=0.0.4 in /Library/Frameworks/Python.framework/Versions/3.9/lib/python3.9/site-packages (from gym>=0.17.2->nes_py) (0.0.8)\n",
      "Requirement already satisfied: zipp>=3.20 in /Library/Frameworks/Python.framework/Versions/3.9/lib/python3.9/site-packages (from importlib_metadata>=4.8.0->gym>=0.17.2->nes_py) (3.20.1)\n"
     ]
    }
   ],
   "source": [
    "# 3 things we need to do:\n",
    "# 1. Setup Mario\n",
    "# 2. Preprocess the Mario Enviroment (make it easier for the agent)\n",
    "# 3. Train our Reinforcement Learning Model (agent)\n",
    "\n",
    "# Setup Mario\n",
    "# First, install some stuff:\n",
    "!pip install gym_super_mario_bros==7.3.0 nes_py"
   ]
  },
  {
   "cell_type": "code",
   "execution_count": 16,
   "id": "9fe85d43-56f9-4b58-a626-5187987a99d1",
   "metadata": {},
   "outputs": [],
   "source": [
    "# Now import the game\n",
    "import gym_super_mario_bros\n",
    "import nes_py\n",
    "# Import the Joypad wrapper - to wrap the game\n",
    "from nes_py.wrappers import JoypadSpace\n",
    "# Import the simplified controls \n",
    "from gym_super_mario_bros.actions import SIMPLE_MOVEMENT # simplify what a Mario agent can do, 256 actions it can do otherwise"
   ]
  },
  {
   "cell_type": "code",
   "execution_count": 9,
   "id": "9c0a6a39-c00c-4a60-9f0c-8373886935ae",
   "metadata": {},
   "outputs": [],
   "source": [
    "# Setup game\n",
    "env = gym_super_mario_bros.make('SuperMarioBros-v0',apply_api_compatibility=True, render_mode = 'human')#,render_mode=\"human\")\n",
    "env = JoypadSpace(env, SIMPLE_MOVEMENT)"
   ]
  },
  {
   "cell_type": "code",
   "execution_count": 18,
   "id": "f8f30930-6cdd-4941-984c-d166a64efe1a",
   "metadata": {},
   "outputs": [
    {
     "data": {
      "text/plain": [
       "Discrete(7)"
      ]
     },
     "execution_count": 18,
     "metadata": {},
     "output_type": "execute_result"
    }
   ],
   "source": [
    "env.observation_space.shape # gives us frame of game\n",
    "env.action_space # actions we can take (simplemovement actions)"
   ]
  },
  {
   "cell_type": "code",
   "execution_count": 20,
   "id": "456b35e4-8a72-4cd8-af00-1dab355194be",
   "metadata": {
    "scrolled": true
   },
   "outputs": [
    {
     "name": "stderr",
     "output_type": "stream",
     "text": [
      "/Library/Frameworks/Python.framework/Versions/3.9/lib/python3.9/site-packages/gym_super_mario_bros/smb_env.py:148: RuntimeWarning: overflow encountered in ubyte_scalars\n",
      "  return (self.ram[0x86] - self.ram[0x071c]) % 256\n"
     ]
    }
   ],
   "source": [
    "# Flag to keep track of when to restart the game. Once the game is done, we need to reset it\n",
    "done = True\n",
    "# Loop through all frames of the game:\n",
    "for step in range (100000):\n",
    "    # Are we done?\n",
    "    if done:\n",
    "        env.reset() # Reset for new game once done\n",
    "    # Do random actions and get back info\n",
    "    obs, reward, terminated, truncated, info = env.step(env.action_space.sample()) # 'Pressing a button', step allows to pass action into game\n",
    "    done = terminated or truncated\n",
    "    #env.render() # Displays game on screen\n",
    "env.close() # Close the game"
   ]
  },
  {
   "cell_type": "code",
   "execution_count": null,
   "id": "1a9e1c99-9bca-43f2-bae9-811e38262aea",
   "metadata": {},
   "outputs": [],
   "source": []
  },
  {
   "cell_type": "code",
   "execution_count": null,
   "id": "dca5f65d-fc46-47d1-9681-a54df99773cf",
   "metadata": {},
   "outputs": [],
   "source": []
  }
 ],
 "metadata": {
  "kernelspec": {
   "display_name": "Python 3 (ipykernel)",
   "language": "python",
   "name": "python3"
  },
  "language_info": {
   "codemirror_mode": {
    "name": "ipython",
    "version": 3
   },
   "file_extension": ".py",
   "mimetype": "text/x-python",
   "name": "python",
   "nbconvert_exporter": "python",
   "pygments_lexer": "ipython3",
   "version": "3.9.7"
  }
 },
 "nbformat": 4,
 "nbformat_minor": 5
}
