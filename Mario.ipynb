{
 "cells": [
  {
   "cell_type": "markdown",
   "id": "368504c8-65e4-4227-9c49-54308078417f",
   "metadata": {},
   "source": [
    "# **Mario**\n",
    "### This project aims to crete a Mario Agent that will beat the entirity of Super Mario Bros using Deep Reinforcement Learning and Double Deep Q-Networks\n",
    "\n",
    "**Eve Collier\\\n",
    "AI II - Spring 2025\\\n",
    "Final Project**"
   ]
  },
  {
   "cell_type": "markdown",
   "id": "78b635d7-f98d-4f2c-978a-a82bc39e4d11",
   "metadata": {},
   "source": [
    "![Mario](https://media3.giphy.com/media/v1.Y2lkPTc5MGI3NjExdmFvcTg0dDBnbnQ1b3BjbzlnemJnbGVrdm02a29pbDF4a3ExcGF2eiZlcD12MV9pbnRlcm5hbF9naWZfYnlfaWQmY3Q9Zw/DqqHabAaTHRII/giphy.gif)"
   ]
  },
  {
   "cell_type": "markdown",
   "id": "2a7a8897-f39b-4fd4-be92-11ce167dddf0",
   "metadata": {},
   "source": [
    "First, we need to install the game and import some stuff:"
   ]
  },
  {
   "cell_type": "code",
   "execution_count": 1,
   "id": "8dfadec9-daad-4089-9c30-a643582076a9",
   "metadata": {},
   "outputs": [
    {
     "name": "stdout",
     "output_type": "stream",
     "text": [
      "Requirement already satisfied: gym_super_mario_bros==7.3.0 in /Library/Frameworks/Python.framework/Versions/3.9/lib/python3.9/site-packages (7.3.0)\n",
      "Requirement already satisfied: nes_py in /Library/Frameworks/Python.framework/Versions/3.9/lib/python3.9/site-packages (8.2.1)\n",
      "Requirement already satisfied: torch in /Library/Frameworks/Python.framework/Versions/3.9/lib/python3.9/site-packages (2.2.2)\n",
      "Requirement already satisfied: opencv-python in /Library/Frameworks/Python.framework/Versions/3.9/lib/python3.9/site-packages (4.9.0.80)\n",
      "Requirement already satisfied: gym>=0.17.2 in /Library/Frameworks/Python.framework/Versions/3.9/lib/python3.9/site-packages (from nes_py) (0.26.2)\n",
      "Requirement already satisfied: numpy>=1.18.5 in /Library/Frameworks/Python.framework/Versions/3.9/lib/python3.9/site-packages (from nes_py) (1.23.5)\n",
      "Requirement already satisfied: pyglet<=1.5.21,>=1.4.0 in /Library/Frameworks/Python.framework/Versions/3.9/lib/python3.9/site-packages (from nes_py) (1.5.21)\n",
      "Requirement already satisfied: tqdm>=4.48.2 in /Library/Frameworks/Python.framework/Versions/3.9/lib/python3.9/site-packages (from nes_py) (4.67.1)\n",
      "Requirement already satisfied: filelock in /Library/Frameworks/Python.framework/Versions/3.9/lib/python3.9/site-packages (from torch) (3.18.0)\n",
      "Requirement already satisfied: typing-extensions>=4.8.0 in /Library/Frameworks/Python.framework/Versions/3.9/lib/python3.9/site-packages (from torch) (4.12.2)\n",
      "Requirement already satisfied: sympy in /Library/Frameworks/Python.framework/Versions/3.9/lib/python3.9/site-packages (from torch) (1.13.3)\n",
      "Requirement already satisfied: networkx in /Library/Frameworks/Python.framework/Versions/3.9/lib/python3.9/site-packages (from torch) (3.2.1)\n",
      "Requirement already satisfied: jinja2 in /Library/Frameworks/Python.framework/Versions/3.9/lib/python3.9/site-packages (from torch) (3.1.5)\n",
      "Requirement already satisfied: fsspec in /Library/Frameworks/Python.framework/Versions/3.9/lib/python3.9/site-packages (from torch) (2024.12.0)\n",
      "Requirement already satisfied: cloudpickle>=1.2.0 in /Library/Frameworks/Python.framework/Versions/3.9/lib/python3.9/site-packages (from gym>=0.17.2->nes_py) (3.1.1)\n",
      "Requirement already satisfied: importlib_metadata>=4.8.0 in /Library/Frameworks/Python.framework/Versions/3.9/lib/python3.9/site-packages (from gym>=0.17.2->nes_py) (8.5.0)\n",
      "Requirement already satisfied: gym_notices>=0.0.4 in /Library/Frameworks/Python.framework/Versions/3.9/lib/python3.9/site-packages (from gym>=0.17.2->nes_py) (0.0.8)\n",
      "Requirement already satisfied: MarkupSafe>=2.0 in /Library/Frameworks/Python.framework/Versions/3.9/lib/python3.9/site-packages (from jinja2->torch) (3.0.2)\n",
      "Requirement already satisfied: mpmath<1.4,>=1.1.0 in /Library/Frameworks/Python.framework/Versions/3.9/lib/python3.9/site-packages (from sympy->torch) (1.3.0)\n",
      "Requirement already satisfied: zipp>=3.20 in /Library/Frameworks/Python.framework/Versions/3.9/lib/python3.9/site-packages (from importlib_metadata>=4.8.0->gym>=0.17.2->nes_py) (3.20.1)\n"
     ]
    },
    {
     "name": "stderr",
     "output_type": "stream",
     "text": [
      "/Library/Frameworks/Python.framework/Versions/3.9/lib/python3.9/site-packages/gym/envs/registration.py:555: UserWarning: \u001b[33mWARN: The environment SuperMarioBros-v0 is out of date. You should consider upgrading to version `v3`.\u001b[0m\n",
      "  logger.warn(\n",
      "/Library/Frameworks/Python.framework/Versions/3.9/lib/python3.9/site-packages/gym/envs/registration.py:627: UserWarning: \u001b[33mWARN: The environment creator metadata doesn't include `render_modes`, contains: ['render.modes', 'video.frames_per_second']\u001b[0m\n",
      "  logger.warn(\n",
      "/Library/Frameworks/Python.framework/Versions/3.9/lib/python3.9/site-packages/gym/utils/passive_env_checker.py:272: UserWarning: \u001b[33mWARN: No render modes was declared in the environment (env.metadata['render_modes'] is None or not defined), you may have trouble when calling `.render()`.\u001b[0m\n",
      "  logger.warn(\n",
      "/Library/Frameworks/Python.framework/Versions/3.9/lib/python3.9/site-packages/gym_super_mario_bros/smb_env.py:148: RuntimeWarning: overflow encountered in ubyte_scalars\n",
      "  return (self.ram[0x86] - self.ram[0x071c]) % 256\n"
     ]
    },
    {
     "ename": "KeyboardInterrupt",
     "evalue": "",
     "output_type": "error",
     "traceback": [
      "\u001b[0;31m---------------------------------------------------------------------------\u001b[0m",
      "\u001b[0;31mKeyboardInterrupt\u001b[0m                         Traceback (most recent call last)",
      "Cell \u001b[0;32mIn[1], line 181\u001b[0m\n\u001b[1;32m    177\u001b[0m     state, info \u001b[38;5;241m=\u001b[39m env\u001b[38;5;241m.\u001b[39mreset(), {}\n\u001b[1;32m    179\u001b[0m action \u001b[38;5;241m=\u001b[39m mario\u001b[38;5;241m.\u001b[39mact(state, info)  \u001b[38;5;66;03m# Pass info to act()\u001b[39;00m\n\u001b[0;32m--> 181\u001b[0m next_state, reward, done, info \u001b[38;5;241m=\u001b[39m \u001b[43menv\u001b[49m\u001b[38;5;241;43m.\u001b[39;49m\u001b[43mstep\u001b[49m\u001b[43m(\u001b[49m\u001b[43maction\u001b[49m\u001b[43m)\u001b[49m\n\u001b[1;32m    182\u001b[0m state \u001b[38;5;241m=\u001b[39m next_state\n\u001b[1;32m    184\u001b[0m env\u001b[38;5;241m.\u001b[39mrender()\n",
      "Cell \u001b[0;32mIn[1], line 79\u001b[0m, in \u001b[0;36mFrameStack.step\u001b[0;34m(self, action)\u001b[0m\n\u001b[1;32m     78\u001b[0m \u001b[38;5;28;01mdef\u001b[39;00m\u001b[38;5;250m \u001b[39m\u001b[38;5;21mstep\u001b[39m(\u001b[38;5;28mself\u001b[39m, action):\n\u001b[0;32m---> 79\u001b[0m     step_result \u001b[38;5;241m=\u001b[39m \u001b[38;5;28;43mself\u001b[39;49m\u001b[38;5;241;43m.\u001b[39;49m\u001b[43menv\u001b[49m\u001b[38;5;241;43m.\u001b[39;49m\u001b[43mstep\u001b[49m\u001b[43m(\u001b[49m\u001b[43maction\u001b[49m\u001b[43m)\u001b[49m\n\u001b[1;32m     80\u001b[0m     \u001b[38;5;28;01mif\u001b[39;00m \u001b[38;5;28mlen\u001b[39m(step_result) \u001b[38;5;241m==\u001b[39m \u001b[38;5;241m4\u001b[39m:  \u001b[38;5;66;03m# Old API\u001b[39;00m\n\u001b[1;32m     81\u001b[0m         obs, reward, done, info \u001b[38;5;241m=\u001b[39m step_result\n",
      "Cell \u001b[0;32mIn[1], line 58\u001b[0m, in \u001b[0;36mGrayScaleObservation.step\u001b[0;34m(self, action)\u001b[0m\n\u001b[1;32m     56\u001b[0m     obs, reward, terminated, truncated, info \u001b[38;5;241m=\u001b[39m step_result\n\u001b[1;32m     57\u001b[0m     done \u001b[38;5;241m=\u001b[39m terminated \u001b[38;5;129;01mor\u001b[39;00m truncated\n\u001b[0;32m---> 58\u001b[0m \u001b[38;5;28;01mreturn\u001b[39;00m \u001b[38;5;28;43mself\u001b[39;49m\u001b[38;5;241;43m.\u001b[39;49m\u001b[43mobservation\u001b[49m\u001b[43m(\u001b[49m\u001b[43mobs\u001b[49m\u001b[43m)\u001b[49m, reward, done, info\n",
      "Cell \u001b[0;32mIn[1], line 47\u001b[0m, in \u001b[0;36mGrayScaleObservation.observation\u001b[0;34m(self, obs)\u001b[0m\n\u001b[1;32m     45\u001b[0m \u001b[38;5;28;01mif\u001b[39;00m \u001b[38;5;28misinstance\u001b[39m(obs, \u001b[38;5;28mtuple\u001b[39m):  \u001b[38;5;66;03m# Handle newer gym API\u001b[39;00m\n\u001b[1;32m     46\u001b[0m     obs \u001b[38;5;241m=\u001b[39m obs[\u001b[38;5;241m0\u001b[39m]\n\u001b[0;32m---> 47\u001b[0m obs \u001b[38;5;241m=\u001b[39m \u001b[43mcv2\u001b[49m\u001b[38;5;241;43m.\u001b[39;49m\u001b[43mcvtColor\u001b[49m\u001b[43m(\u001b[49m\u001b[43mobs\u001b[49m\u001b[43m,\u001b[49m\u001b[43m \u001b[49m\u001b[43mcv2\u001b[49m\u001b[38;5;241;43m.\u001b[39;49m\u001b[43mCOLOR_RGB2GRAY\u001b[49m\u001b[43m)\u001b[49m\n\u001b[1;32m     48\u001b[0m obs \u001b[38;5;241m=\u001b[39m cv2\u001b[38;5;241m.\u001b[39mresize(obs, (\u001b[38;5;241m84\u001b[39m, \u001b[38;5;241m84\u001b[39m), interpolation\u001b[38;5;241m=\u001b[39mcv2\u001b[38;5;241m.\u001b[39mINTER_AREA)\n\u001b[1;32m     49\u001b[0m \u001b[38;5;28;01mreturn\u001b[39;00m obs\n",
      "\u001b[0;31mKeyboardInterrupt\u001b[0m: "
     ]
    }
   ],
   "source": [
    "!pip install gym_super_mario_bros==7.3.0 nes_py torch opencv-python\n",
    "import gym\n",
    "import gym_super_mario_bros\n",
    "import numpy as np\n",
    "import torch\n",
    "import torch.nn as nn\n",
    "import cv2\n",
    "from nes_py.wrappers import JoypadSpace\n",
    "from gym_super_mario_bros.actions import SIMPLE_MOVEMENT\n",
    "from collections import deque\n",
    "from gym import Wrapper\n",
    "\n",
    "# Custom Wrappers\n",
    "class SkipFrame(Wrapper):\n",
    "    def __init__(self, env, skip=4):\n",
    "        super().__init__(env)\n",
    "        self._skip = skip\n",
    "\n",
    "    def step(self, action):\n",
    "        total_reward = 0.0\n",
    "        done = False\n",
    "        for _ in range(self._skip):\n",
    "            step_result = self.env.step(action)\n",
    "            if len(step_result) == 4:  # Old API\n",
    "                obs, reward, done, info = step_result\n",
    "                terminated, truncated = done, False\n",
    "            else:  # New API\n",
    "                obs, reward, terminated, truncated, info = step_result\n",
    "                done = terminated or truncated\n",
    "            \n",
    "            total_reward += reward\n",
    "            if done:\n",
    "                break\n",
    "        return obs, total_reward, done, info\n",
    "\n",
    "    def reset(self):\n",
    "        return self.env.reset()\n",
    "\n",
    "class GrayScaleObservation(Wrapper):\n",
    "    def __init__(self, env):\n",
    "        super().__init__(env)\n",
    "        self.observation_space = gym.spaces.Box(low=0, high=255, shape=(84, 84), dtype=np.uint8)\n",
    "\n",
    "    def observation(self, obs):\n",
    "        if isinstance(obs, tuple):  # Handle newer gym API\n",
    "            obs = obs[0]\n",
    "        obs = cv2.cvtColor(obs, cv2.COLOR_RGB2GRAY)\n",
    "        obs = cv2.resize(obs, (84, 84), interpolation=cv2.INTER_AREA)\n",
    "        return obs\n",
    "\n",
    "    def step(self, action):\n",
    "        step_result = self.env.step(action)\n",
    "        if len(step_result) == 4:  # Old API\n",
    "            obs, reward, done, info = step_result\n",
    "        else:  # New API\n",
    "            obs, reward, terminated, truncated, info = step_result\n",
    "            done = terminated or truncated\n",
    "        return self.observation(obs), reward, done, info\n",
    "\n",
    "    def reset(self):\n",
    "        obs = self.env.reset()\n",
    "        return self.observation(obs)\n",
    "\n",
    "class FrameStack(Wrapper):\n",
    "    def __init__(self, env, num_stack=4):\n",
    "        super().__init__(env)\n",
    "        self.num_stack = num_stack\n",
    "        self.frames = deque(maxlen=num_stack)\n",
    "        self.observation_space = gym.spaces.Box(\n",
    "            low=0, high=255, shape=(num_stack, 84, 84), dtype=np.uint8)\n",
    "\n",
    "    def reset(self):\n",
    "        obs = self.env.reset()\n",
    "        for _ in range(self.num_stack):\n",
    "            self.frames.append(obs)\n",
    "        return np.stack(self.frames)\n",
    "\n",
    "    def step(self, action):\n",
    "        step_result = self.env.step(action)\n",
    "        if len(step_result) == 4:  # Old API\n",
    "            obs, reward, done, info = step_result\n",
    "        else:  # New API\n",
    "            obs, reward, terminated, truncated, info = step_result\n",
    "            done = terminated or truncated\n",
    "        self.frames.append(obs)\n",
    "        return np.stack(self.frames), reward, done, info\n",
    "\n",
    "# Neural Network (same as before)\n",
    "class MarioNet(nn.Module):\n",
    "    def __init__(self, input_channels, num_actions):\n",
    "        super().__init__()\n",
    "        self.online = nn.Sequential(\n",
    "            nn.Conv2d(input_channels, 32, kernel_size=8, stride=4),\n",
    "            nn.ReLU(),\n",
    "            nn.Conv2d(32, 64, kernel_size=4, stride=2),\n",
    "            nn.ReLU(),\n",
    "            nn.Conv2d(64, 64, kernel_size=3, stride=1),\n",
    "            nn.ReLU(),\n",
    "            nn.Flatten(),\n",
    "            nn.Linear(7*7*64, 512),\n",
    "            nn.ReLU(),\n",
    "            nn.Linear(512, num_actions)\n",
    "        )\n",
    "\n",
    "    def forward(self, x):\n",
    "        return self.online(x)\n",
    "\n",
    "# Enhanced Mario Agent with jumping heuristic\n",
    "class Mario:\n",
    "    def __init__(self, state_shape, num_actions):\n",
    "        self.state_shape = state_shape\n",
    "        self.num_actions = num_actions\n",
    "        self.device = 'cuda' if torch.cuda.is_available() else 'cpu'\n",
    "        self.net = MarioNet(state_shape[0], num_actions).to(self.device)\n",
    "        self.jump_cooldown = 0\n",
    "        self.last_status = 'small'\n",
    "        self.last_x_pos = 0\n",
    "        self.stuck_counter = 0\n",
    "        \n",
    "    def act(self, state, info=None):\n",
    "        # Update status and position tracking if info is provided\n",
    "        if info is not None:\n",
    "            self.update_status(info)\n",
    "            current_x_pos = info.get('x_pos', 0)\n",
    "            \n",
    "            # Track if we're stuck (not moving forward)\n",
    "            if current_x_pos == self.last_x_pos:\n",
    "                self.stuck_counter += 1\n",
    "            else:\n",
    "                self.stuck_counter = 0\n",
    "            self.last_x_pos = current_x_pos\n",
    "        \n",
    "        # Convert state to tensor\n",
    "        state_t = torch.from_numpy(state).float().to(self.device) / 255.0\n",
    "        state_t = state_t.unsqueeze(0)  # Add batch dimension\n",
    "        \n",
    "        # Get network's action values\n",
    "        with torch.no_grad():\n",
    "            action_values = self.net(state_t)\n",
    "        \n",
    "        # Get the action with highest Q-value\n",
    "        action = torch.argmax(action_values).item()\n",
    "        \n",
    "        # Jumping logic\n",
    "        if self.jump_cooldown <= 0:\n",
    "            # If we're small or stuck, jump more\n",
    "            if self.last_status in ('small', 'tall') or self.stuck_counter > 10:\n",
    "                # 60% chance to jump when vulnerable\n",
    "                if np.random.random() < 0.6:\n",
    "                    action = np.random.choice([2, 3, 4, 5])  # Jumping actions\n",
    "                    self.jump_cooldown = 15  # frames before next forced jump\n",
    "        \n",
    "        if self.jump_cooldown > 0:\n",
    "            self.jump_cooldown -= 1\n",
    "            \n",
    "        return action\n",
    "    \n",
    "    def update_status(self, info):\n",
    "        self.last_status = info.get('status', 'small')\n",
    "\n",
    "# Initialize Environment with rendering\n",
    "env = gym_super_mario_bros.make('SuperMarioBros-v0', \n",
    "                               apply_api_compatibility=True,\n",
    "                               render_mode='human')\n",
    "env = JoypadSpace(env, SIMPLE_MOVEMENT)\n",
    "env = SkipFrame(env, skip=4)\n",
    "env = GrayScaleObservation(env)\n",
    "env = FrameStack(env, num_stack=4)\n",
    "\n",
    "# Initialize Mario\n",
    "mario = Mario(state_shape=(4, 84, 84), num_actions=env.action_space.n)\n",
    "\n",
    "# Main game loop\n",
    "done = True\n",
    "for step in range(100000):\n",
    "    if done:\n",
    "        state, info = env.reset(), {}\n",
    "    \n",
    "    action = mario.act(state, info)  # Pass info to act()\n",
    "    \n",
    "    next_state, reward, done, info = env.step(action)\n",
    "    state = next_state\n",
    "    \n",
    "    env.render()\n",
    "\n",
    "env.close()"
   ]
  },
  {
   "cell_type": "code",
   "execution_count": 1,
   "id": "4bc5211c-5dd9-4cfd-b739-3e1cef6f4569",
   "metadata": {},
   "outputs": [
    {
     "name": "stdout",
     "output_type": "stream",
     "text": [
      "Requirement already satisfied: gym_super_mario_bros==7.3.0 in /Library/Frameworks/Python.framework/Versions/3.9/lib/python3.9/site-packages (7.3.0)\n",
      "Requirement already satisfied: nes_py in /Library/Frameworks/Python.framework/Versions/3.9/lib/python3.9/site-packages (8.2.1)\n",
      "Requirement already satisfied: gym>=0.17.2 in /Library/Frameworks/Python.framework/Versions/3.9/lib/python3.9/site-packages (from nes_py) (0.26.2)\n",
      "Requirement already satisfied: numpy>=1.18.5 in /Library/Frameworks/Python.framework/Versions/3.9/lib/python3.9/site-packages (from nes_py) (1.23.5)\n",
      "Requirement already satisfied: pyglet<=1.5.21,>=1.4.0 in /Library/Frameworks/Python.framework/Versions/3.9/lib/python3.9/site-packages (from nes_py) (1.5.21)\n",
      "Requirement already satisfied: tqdm>=4.48.2 in /Library/Frameworks/Python.framework/Versions/3.9/lib/python3.9/site-packages (from nes_py) (4.67.1)\n",
      "Requirement already satisfied: cloudpickle>=1.2.0 in /Library/Frameworks/Python.framework/Versions/3.9/lib/python3.9/site-packages (from gym>=0.17.2->nes_py) (3.1.1)\n",
      "Requirement already satisfied: importlib_metadata>=4.8.0 in /Library/Frameworks/Python.framework/Versions/3.9/lib/python3.9/site-packages (from gym>=0.17.2->nes_py) (8.5.0)\n",
      "Requirement already satisfied: gym_notices>=0.0.4 in /Library/Frameworks/Python.framework/Versions/3.9/lib/python3.9/site-packages (from gym>=0.17.2->nes_py) (0.0.8)\n",
      "Requirement already satisfied: zipp>=3.20 in /Library/Frameworks/Python.framework/Versions/3.9/lib/python3.9/site-packages (from importlib_metadata>=4.8.0->gym>=0.17.2->nes_py) (3.20.1)\n"
     ]
    }
   ],
   "source": [
    "!pip install gym_super_mario_bros==7.3.0 nes_py\n",
    "import gym_super_mario_bros\n",
    "import nes_py\n",
    "from nes_py.wrappers import JoypadSpace # Wrap the game \n",
    "from gym_super_mario_bros.actions import SIMPLE_MOVEMENT # simplify what a Mario agent can do, 256 actions it can do otherwise"
   ]
  },
  {
   "cell_type": "markdown",
   "id": "a89a15b1-0cdf-4380-91ef-6ae116d3a8d1",
   "metadata": {},
   "source": [
    "Cool.\n",
    "Now, setup the game:"
   ]
  },
  {
   "cell_type": "code",
   "execution_count": 2,
   "id": "e4437065-3bca-45cb-82df-fb6f4a5fe92a",
   "metadata": {},
   "outputs": [
    {
     "name": "stderr",
     "output_type": "stream",
     "text": [
      "/Library/Frameworks/Python.framework/Versions/3.9/lib/python3.9/site-packages/gym/envs/registration.py:627: UserWarning: \u001b[33mWARN: The environment creator metadata doesn't include `render_modes`, contains: ['render.modes', 'video.frames_per_second']\u001b[0m\n",
      "  logger.warn(\n"
     ]
    },
    {
     "data": {
      "text/plain": [
       "Discrete(7)"
      ]
     },
     "execution_count": 2,
     "metadata": {},
     "output_type": "execute_result"
    }
   ],
   "source": [
    "env = gym_super_mario_bros.make('SuperMarioBros-v0',apply_api_compatibility=True, render_mode = 'human')#,render_mode=\\\"human\\\n",
    "env = JoypadSpace(env, SIMPLE_MOVEMENT)\n",
    "env.observation_space.shape # gives us frame of game\n",
    "env.action_space # actions we can take (simplemovement actions)"
   ]
  },
  {
   "cell_type": "code",
   "execution_count": 3,
   "id": "f973b5c9-7e42-4f03-a7ec-9e6f1ca246bf",
   "metadata": {},
   "outputs": [
    {
     "name": "stderr",
     "output_type": "stream",
     "text": [
      "/Library/Frameworks/Python.framework/Versions/3.9/lib/python3.9/site-packages/gym/utils/passive_env_checker.py:272: UserWarning: \u001b[33mWARN: No render modes was declared in the environment (env.metadata['render_modes'] is None or not defined), you may have trouble when calling `.render()`.\u001b[0m\n",
      "  logger.warn(\n",
      "/Library/Frameworks/Python.framework/Versions/3.9/lib/python3.9/site-packages/gym_super_mario_bros/smb_env.py:148: RuntimeWarning: overflow encountered in ubyte_scalars\n",
      "  return (self.ram[0x86] - self.ram[0x071c]) % 256\n"
     ]
    },
    {
     "ename": "KeyboardInterrupt",
     "evalue": "",
     "output_type": "error",
     "traceback": [
      "\u001b[0;31m---------------------------------------------------------------------------\u001b[0m",
      "\u001b[0;31mKeyboardInterrupt\u001b[0m                         Traceback (most recent call last)",
      "Cell \u001b[0;32mIn[3], line 10\u001b[0m\n\u001b[1;32m      8\u001b[0m \u001b[38;5;66;03m# Do random actions and get info back:\u001b[39;00m\n\u001b[1;32m      9\u001b[0m action \u001b[38;5;241m=\u001b[39m env\u001b[38;5;241m.\u001b[39maction_space\u001b[38;5;241m.\u001b[39msample() \u001b[38;5;66;03m# random action\u001b[39;00m\n\u001b[0;32m---> 10\u001b[0m obs, reward, terminated, truncated , info \u001b[38;5;241m=\u001b[39m \u001b[43menv\u001b[49m\u001b[38;5;241;43m.\u001b[39;49m\u001b[43mstep\u001b[49m\u001b[43m(\u001b[49m\u001b[43maction\u001b[49m\u001b[43m)\u001b[49m \u001b[38;5;66;03m# 'Pressing a button', step allows to pass action into game\u001b[39;00m\n\u001b[1;32m     11\u001b[0m done \u001b[38;5;241m=\u001b[39m terminated \u001b[38;5;129;01mor\u001b[39;00m truncated\n\u001b[1;32m     12\u001b[0m env\u001b[38;5;241m.\u001b[39mrender() \u001b[38;5;66;03m# Display the game on screen\u001b[39;00m\n",
      "File \u001b[0;32m/Library/Frameworks/Python.framework/Versions/3.9/lib/python3.9/site-packages/nes_py/wrappers/joypad_space.py:74\u001b[0m, in \u001b[0;36mJoypadSpace.step\u001b[0;34m(self, action)\u001b[0m\n\u001b[1;32m     59\u001b[0m \u001b[38;5;250m\u001b[39m\u001b[38;5;124;03m\"\"\"\u001b[39;00m\n\u001b[1;32m     60\u001b[0m \u001b[38;5;124;03mTake a step using the given action.\u001b[39;00m\n\u001b[1;32m     61\u001b[0m \n\u001b[0;32m   (...)\u001b[0m\n\u001b[1;32m     71\u001b[0m \n\u001b[1;32m     72\u001b[0m \u001b[38;5;124;03m\"\"\"\u001b[39;00m\n\u001b[1;32m     73\u001b[0m \u001b[38;5;66;03m# take the step and record the output\u001b[39;00m\n\u001b[0;32m---> 74\u001b[0m \u001b[38;5;28;01mreturn\u001b[39;00m \u001b[38;5;28;43mself\u001b[39;49m\u001b[38;5;241;43m.\u001b[39;49m\u001b[43menv\u001b[49m\u001b[38;5;241;43m.\u001b[39;49m\u001b[43mstep\u001b[49m\u001b[43m(\u001b[49m\u001b[38;5;28;43mself\u001b[39;49m\u001b[38;5;241;43m.\u001b[39;49m\u001b[43m_action_map\u001b[49m\u001b[43m[\u001b[49m\u001b[43maction\u001b[49m\u001b[43m]\u001b[49m\u001b[43m)\u001b[49m\n",
      "File \u001b[0;32m/Library/Frameworks/Python.framework/Versions/3.9/lib/python3.9/site-packages/gym/wrappers/time_limit.py:50\u001b[0m, in \u001b[0;36mTimeLimit.step\u001b[0;34m(self, action)\u001b[0m\n\u001b[1;32m     39\u001b[0m \u001b[38;5;28;01mdef\u001b[39;00m\u001b[38;5;250m \u001b[39m\u001b[38;5;21mstep\u001b[39m(\u001b[38;5;28mself\u001b[39m, action):\n\u001b[1;32m     40\u001b[0m \u001b[38;5;250m    \u001b[39m\u001b[38;5;124;03m\"\"\"Steps through the environment and if the number of steps elapsed exceeds ``max_episode_steps`` then truncate.\u001b[39;00m\n\u001b[1;32m     41\u001b[0m \n\u001b[1;32m     42\u001b[0m \u001b[38;5;124;03m    Args:\u001b[39;00m\n\u001b[0;32m   (...)\u001b[0m\n\u001b[1;32m     48\u001b[0m \n\u001b[1;32m     49\u001b[0m \u001b[38;5;124;03m    \"\"\"\u001b[39;00m\n\u001b[0;32m---> 50\u001b[0m     observation, reward, terminated, truncated, info \u001b[38;5;241m=\u001b[39m \u001b[38;5;28;43mself\u001b[39;49m\u001b[38;5;241;43m.\u001b[39;49m\u001b[43menv\u001b[49m\u001b[38;5;241;43m.\u001b[39;49m\u001b[43mstep\u001b[49m\u001b[43m(\u001b[49m\u001b[43maction\u001b[49m\u001b[43m)\u001b[49m\n\u001b[1;32m     51\u001b[0m     \u001b[38;5;28mself\u001b[39m\u001b[38;5;241m.\u001b[39m_elapsed_steps \u001b[38;5;241m+\u001b[39m\u001b[38;5;241m=\u001b[39m \u001b[38;5;241m1\u001b[39m\n\u001b[1;32m     53\u001b[0m     \u001b[38;5;28;01mif\u001b[39;00m \u001b[38;5;28mself\u001b[39m\u001b[38;5;241m.\u001b[39m_elapsed_steps \u001b[38;5;241m>\u001b[39m\u001b[38;5;241m=\u001b[39m \u001b[38;5;28mself\u001b[39m\u001b[38;5;241m.\u001b[39m_max_episode_steps:\n",
      "File \u001b[0;32m/Library/Frameworks/Python.framework/Versions/3.9/lib/python3.9/site-packages/gym/wrappers/order_enforcing.py:37\u001b[0m, in \u001b[0;36mOrderEnforcing.step\u001b[0;34m(self, action)\u001b[0m\n\u001b[1;32m     35\u001b[0m \u001b[38;5;28;01mif\u001b[39;00m \u001b[38;5;129;01mnot\u001b[39;00m \u001b[38;5;28mself\u001b[39m\u001b[38;5;241m.\u001b[39m_has_reset:\n\u001b[1;32m     36\u001b[0m     \u001b[38;5;28;01mraise\u001b[39;00m ResetNeeded(\u001b[38;5;124m\"\u001b[39m\u001b[38;5;124mCannot call env.step() before calling env.reset()\u001b[39m\u001b[38;5;124m\"\u001b[39m)\n\u001b[0;32m---> 37\u001b[0m \u001b[38;5;28;01mreturn\u001b[39;00m \u001b[38;5;28;43mself\u001b[39;49m\u001b[38;5;241;43m.\u001b[39;49m\u001b[43menv\u001b[49m\u001b[38;5;241;43m.\u001b[39;49m\u001b[43mstep\u001b[49m\u001b[43m(\u001b[49m\u001b[43maction\u001b[49m\u001b[43m)\u001b[49m\n",
      "File \u001b[0;32m/Library/Frameworks/Python.framework/Versions/3.9/lib/python3.9/site-packages/gym/wrappers/env_checker.py:39\u001b[0m, in \u001b[0;36mPassiveEnvChecker.step\u001b[0;34m(self, action)\u001b[0m\n\u001b[1;32m     37\u001b[0m     \u001b[38;5;28;01mreturn\u001b[39;00m env_step_passive_checker(\u001b[38;5;28mself\u001b[39m\u001b[38;5;241m.\u001b[39menv, action)\n\u001b[1;32m     38\u001b[0m \u001b[38;5;28;01melse\u001b[39;00m:\n\u001b[0;32m---> 39\u001b[0m     \u001b[38;5;28;01mreturn\u001b[39;00m \u001b[38;5;28;43mself\u001b[39;49m\u001b[38;5;241;43m.\u001b[39;49m\u001b[43menv\u001b[49m\u001b[38;5;241;43m.\u001b[39;49m\u001b[43mstep\u001b[49m\u001b[43m(\u001b[49m\u001b[43maction\u001b[49m\u001b[43m)\u001b[49m\n",
      "File \u001b[0;32m/Library/Frameworks/Python.framework/Versions/3.9/lib/python3.9/site-packages/gym/wrappers/compatibility.py:108\u001b[0m, in \u001b[0;36mEnvCompatibility.step\u001b[0;34m(self, action)\u001b[0m\n\u001b[1;32m    105\u001b[0m obs, reward, done, info \u001b[38;5;241m=\u001b[39m \u001b[38;5;28mself\u001b[39m\u001b[38;5;241m.\u001b[39menv\u001b[38;5;241m.\u001b[39mstep(action)\n\u001b[1;32m    107\u001b[0m \u001b[38;5;28;01mif\u001b[39;00m \u001b[38;5;28mself\u001b[39m\u001b[38;5;241m.\u001b[39mrender_mode \u001b[38;5;241m==\u001b[39m \u001b[38;5;124m\"\u001b[39m\u001b[38;5;124mhuman\u001b[39m\u001b[38;5;124m\"\u001b[39m:\n\u001b[0;32m--> 108\u001b[0m     \u001b[38;5;28;43mself\u001b[39;49m\u001b[38;5;241;43m.\u001b[39;49m\u001b[43mrender\u001b[49m\u001b[43m(\u001b[49m\u001b[43m)\u001b[49m\n\u001b[1;32m    110\u001b[0m \u001b[38;5;28;01mreturn\u001b[39;00m convert_to_terminated_truncated_step_api((obs, reward, done, info))\n",
      "File \u001b[0;32m/Library/Frameworks/Python.framework/Versions/3.9/lib/python3.9/site-packages/gym/wrappers/compatibility.py:118\u001b[0m, in \u001b[0;36mEnvCompatibility.render\u001b[0;34m(self)\u001b[0m\n\u001b[1;32m    112\u001b[0m \u001b[38;5;28;01mdef\u001b[39;00m\u001b[38;5;250m \u001b[39m\u001b[38;5;21mrender\u001b[39m(\u001b[38;5;28mself\u001b[39m) \u001b[38;5;241m-\u001b[39m\u001b[38;5;241m>\u001b[39m Any:\n\u001b[1;32m    113\u001b[0m \u001b[38;5;250m    \u001b[39m\u001b[38;5;124;03m\"\"\"Renders the environment.\u001b[39;00m\n\u001b[1;32m    114\u001b[0m \n\u001b[1;32m    115\u001b[0m \u001b[38;5;124;03m    Returns:\u001b[39;00m\n\u001b[1;32m    116\u001b[0m \u001b[38;5;124;03m        The rendering of the environment, depending on the render mode\u001b[39;00m\n\u001b[1;32m    117\u001b[0m \u001b[38;5;124;03m    \"\"\"\u001b[39;00m\n\u001b[0;32m--> 118\u001b[0m     \u001b[38;5;28;01mreturn\u001b[39;00m \u001b[38;5;28;43mself\u001b[39;49m\u001b[38;5;241;43m.\u001b[39;49m\u001b[43menv\u001b[49m\u001b[38;5;241;43m.\u001b[39;49m\u001b[43mrender\u001b[49m\u001b[43m(\u001b[49m\u001b[43mmode\u001b[49m\u001b[38;5;241;43m=\u001b[39;49m\u001b[38;5;28;43mself\u001b[39;49m\u001b[38;5;241;43m.\u001b[39;49m\u001b[43mrender_mode\u001b[49m\u001b[43m)\u001b[49m\n",
      "File \u001b[0;32m/Library/Frameworks/Python.framework/Versions/3.9/lib/python3.9/site-packages/nes_py/nes_env.py:386\u001b[0m, in \u001b[0;36mNESEnv.render\u001b[0;34m(self, mode)\u001b[0m\n\u001b[1;32m    380\u001b[0m         \u001b[38;5;28mself\u001b[39m\u001b[38;5;241m.\u001b[39mviewer \u001b[38;5;241m=\u001b[39m ImageViewer(\n\u001b[1;32m    381\u001b[0m             caption\u001b[38;5;241m=\u001b[39mcaption,\n\u001b[1;32m    382\u001b[0m             height\u001b[38;5;241m=\u001b[39mSCREEN_HEIGHT,\n\u001b[1;32m    383\u001b[0m             width\u001b[38;5;241m=\u001b[39mSCREEN_WIDTH,\n\u001b[1;32m    384\u001b[0m         )\n\u001b[1;32m    385\u001b[0m     \u001b[38;5;66;03m# show the screen on the image viewer\u001b[39;00m\n\u001b[0;32m--> 386\u001b[0m     \u001b[38;5;28;43mself\u001b[39;49m\u001b[38;5;241;43m.\u001b[39;49m\u001b[43mviewer\u001b[49m\u001b[38;5;241;43m.\u001b[39;49m\u001b[43mshow\u001b[49m\u001b[43m(\u001b[49m\u001b[38;5;28;43mself\u001b[39;49m\u001b[38;5;241;43m.\u001b[39;49m\u001b[43mscreen\u001b[49m\u001b[43m)\u001b[49m\n\u001b[1;32m    387\u001b[0m \u001b[38;5;28;01melif\u001b[39;00m mode \u001b[38;5;241m==\u001b[39m \u001b[38;5;124m'\u001b[39m\u001b[38;5;124mrgb_array\u001b[39m\u001b[38;5;124m'\u001b[39m:\n\u001b[1;32m    388\u001b[0m     \u001b[38;5;28;01mreturn\u001b[39;00m \u001b[38;5;28mself\u001b[39m\u001b[38;5;241m.\u001b[39mscreen\n",
      "File \u001b[0;32m/Library/Frameworks/Python.framework/Versions/3.9/lib/python3.9/site-packages/nes_py/_image_viewer.py:144\u001b[0m, in \u001b[0;36mImageViewer.show\u001b[0;34m(self, frame)\u001b[0m\n\u001b[1;32m    138\u001b[0m \u001b[38;5;28mself\u001b[39m\u001b[38;5;241m.\u001b[39m_window\u001b[38;5;241m.\u001b[39mdispatch_events()\n\u001b[1;32m    139\u001b[0m \u001b[38;5;66;03m# create an image data object\u001b[39;00m\n\u001b[1;32m    140\u001b[0m image \u001b[38;5;241m=\u001b[39m \u001b[38;5;28mself\u001b[39m\u001b[38;5;241m.\u001b[39mpyglet\u001b[38;5;241m.\u001b[39mimage\u001b[38;5;241m.\u001b[39mImageData(\n\u001b[1;32m    141\u001b[0m     frame\u001b[38;5;241m.\u001b[39mshape[\u001b[38;5;241m1\u001b[39m],\n\u001b[1;32m    142\u001b[0m     frame\u001b[38;5;241m.\u001b[39mshape[\u001b[38;5;241m0\u001b[39m],\n\u001b[1;32m    143\u001b[0m     \u001b[38;5;124m'\u001b[39m\u001b[38;5;124mRGB\u001b[39m\u001b[38;5;124m'\u001b[39m,\n\u001b[0;32m--> 144\u001b[0m     \u001b[43mframe\u001b[49m\u001b[38;5;241;43m.\u001b[39;49m\u001b[43mtobytes\u001b[49m\u001b[43m(\u001b[49m\u001b[43m)\u001b[49m,\n\u001b[1;32m    145\u001b[0m     pitch\u001b[38;5;241m=\u001b[39mframe\u001b[38;5;241m.\u001b[39mshape[\u001b[38;5;241m1\u001b[39m]\u001b[38;5;241m*\u001b[39m\u001b[38;5;241m-\u001b[39m\u001b[38;5;241m3\u001b[39m\n\u001b[1;32m    146\u001b[0m )\n\u001b[1;32m    147\u001b[0m \u001b[38;5;66;03m# send the image to the window\u001b[39;00m\n\u001b[1;32m    148\u001b[0m image\u001b[38;5;241m.\u001b[39mblit(\u001b[38;5;241m0\u001b[39m, \u001b[38;5;241m0\u001b[39m, width\u001b[38;5;241m=\u001b[39m\u001b[38;5;28mself\u001b[39m\u001b[38;5;241m.\u001b[39m_window\u001b[38;5;241m.\u001b[39mwidth, height\u001b[38;5;241m=\u001b[39m\u001b[38;5;28mself\u001b[39m\u001b[38;5;241m.\u001b[39m_window\u001b[38;5;241m.\u001b[39mheight)\n",
      "\u001b[0;31mKeyboardInterrupt\u001b[0m: "
     ]
    }
   ],
   "source": [
    "# Flag to keep track of when to restart the game. Once game is done, it must be started\n",
    "done = True\n",
    "# Loop thru all frames of game:\n",
    "for step in range (100000):\n",
    "    # Are we done?\n",
    "    if done:\n",
    "        env.reset() # Restart for the new game\n",
    "    # Do random actions and get info back:\n",
    "    action = env.action_space.sample() # random action\n",
    "    obs, reward, terminated, truncated , info = env.step(action) # 'Pressing a button', step allows to pass action into game\n",
    "    done = terminated or truncated\n",
    "    env.render() # Display the game on screen\n",
    "end.close() "
   ]
  },
  {
   "cell_type": "code",
   "execution_count": null,
   "id": "320df7be-033a-42e9-90e0-156a9c6a048f",
   "metadata": {},
   "outputs": [],
   "source": []
  }
 ],
 "metadata": {
  "kernelspec": {
   "display_name": "Python 3 (ipykernel)",
   "language": "python",
   "name": "python3"
  },
  "language_info": {
   "codemirror_mode": {
    "name": "ipython",
    "version": 3
   },
   "file_extension": ".py",
   "mimetype": "text/x-python",
   "name": "python",
   "nbconvert_exporter": "python",
   "pygments_lexer": "ipython3",
   "version": "3.9.7"
  }
 },
 "nbformat": 4,
 "nbformat_minor": 5
}
